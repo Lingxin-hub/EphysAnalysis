{
 "cells": [
  {
   "cell_type": "markdown",
   "metadata": {},
   "source": [
    "# This program is used to analyze step stimulated MRC current \n",
    "# parameters like peak current amplitude both on and off MRC current\n",
    "# Paremeters like half time to peak for both on and off MRC current\n",
    "# paremeters like half time current decay time for both on and off MRC current"
   ]
  },
  {
   "cell_type": "code",
   "execution_count": 1,
   "metadata": {},
   "outputs": [],
   "source": [
    "import numpy as np\n",
    "import matplotlib.pyplot as plt\n",
    "from matplotlib import gridspec\n",
    "from matplotlib import rcParams\n",
    "from scipy.optimize import curve_fit\n",
    "from scipy.ndimage import gaussian_filter\n",
    "from scipy.signal import find_peaks\n",
    "import pandas as pd\n",
    "import sys\n",
    "fpath = '/Users/LingxinW/Box/Wang/PythonStuff'\n",
    "sys.path.append(fpath)\n",
    "import heka_reader "
   ]
  },
  {
   "cell_type": "code",
   "execution_count": 3,
   "metadata": {},
   "outputs": [
    {
     "name": "stdout",
     "output_type": "stream",
     "text": [
      "C:\\Users\\LingxinW\\Box\\Wang\\Everyday working folders\\Ephys_recording\\ALM_ephys\\recordingfiles\n"
     ]
    }
   ],
   "source": [
    "cd ~/Box/Wang/Everyday working folders/Ephys_recording/ALM_ephys/recordingfiles\n"
   ]
  },
  {
   "cell_type": "code",
   "execution_count": 67,
   "metadata": {},
   "outputs": [],
   "source": [
    "myfile = heka_reader.Bundle ('201106.dat') # pick one specific recording file"
   ]
  },
  {
   "cell_type": "code",
   "execution_count": 70,
   "metadata": {},
   "outputs": [
    {
     "name": "stdout",
     "output_type": "stream",
     "text": [
      "[-5.2768946  -4.56774671 -4.40088838 ... -4.19231548 -5.61061126\n",
      " -5.40203835]\n"
     ]
    }
   ],
   "source": [
    "#mydata = myfile.data[1,10,5,0] # data from group 2, series 11, trace number 5\n",
    "#mydata2 = myfile.data[1,10,5,1] # mechanical stimulation data \n",
    "\n",
    "#y = mydata*1000000000000 # change MRC from A to pA\n",
    "\n",
    "g = 1 # group number -1\n",
    "x = np.arange(len(myfile.data[g,10,5,0]))/5000\n",
    "# extract data for stimulation\n",
    "stim = []\n",
    "for j in range (0,6):\n",
    "    stim.append(myfile.data[g,10,j,1]) # g = group number -1, 10, series number -1, j swip number\n",
    "    \n",
    "stim_swp = stim\n",
    "\n",
    "# creat empty list of 1-6 sweeps and later put all three sweeps into this empty list\n",
    "mrc_swps = []\n",
    "sw1 = []\n",
    "sw2 = []\n",
    "sw3 = []\n",
    "sw4 = []\n",
    "sw5 = []\n",
    "sw6 = []\n",
    "\n",
    "# create a for loop to collect 1-6 sweeps in three series\n",
    " \n",
    "for i in range (10,13):\n",
    "    sw1.append(myfile.data[g,i,0,0]*1000000000000)\n",
    "    sw2.append(myfile.data[g,i,1,0]*1000000000000)\n",
    "    sw3.append(myfile.data[g,i,2,0]*1000000000000)\n",
    "    sw4.append(myfile.data[g,i,3,0]*1000000000000)\n",
    "    sw5.append(myfile.data[g,i,4,0]*1000000000000)\n",
    "    sw6.append(myfile.data[g,i,5,0]*1000000000000)\n",
    "   \n",
    "# Now calculate the mean of three repeats by averaging the nested lists (lists in lists)\n",
    "# here I just want to print to give one expample of the mean of three same sweeps, here sweep #1.\n",
    "sw1_mean = (sw1[0]+sw1[1]+sw1[2])/3\n",
    "sw2_mean = (sw2[0]+sw2[1]+sw2[2])/3\n",
    "sw3_mean = (sw3[0]+sw3[1]+sw3[2])/3\n",
    "sw4_mean = (sw4[0]+sw4[1]+sw4[2])/3\n",
    "sw5_mean = (sw5[0]+sw5[1]+sw5[2])/3\n",
    "sw6_mean = (sw6[0]+sw6[1]+sw6[2])/3\n",
    "\n",
    "mrc_swps.append(sw1_mean)\n",
    "mrc_swps.append(sw2_mean)\n",
    "mrc_swps.append(sw3_mean)\n",
    "mrc_swps.append(sw4_mean)\n",
    "mrc_swps.append(sw5_mean)\n",
    "mrc_swps.append(sw6_mean)\n",
    "print (sw1_mean)"
   ]
  },
  {
   "cell_type": "code",
   "execution_count": 9,
   "metadata": {},
   "outputs": [
    {
     "data": {
      "image/png": "[encoded data removed]",
      "text/plain": [
       "<Figure size 288x108 with 1 Axes>"
      ]
     },
     "metadata": {},
     "output_type": "display_data"
    }
   ],
   "source": [
    "# plot single traces\n",
    "fig, ax = plt.subplots (figsize=(4,1.5)) # set figure size\n",
    "#ax.spines ['top'].set_visible (False)\n",
    "#ax.spines ['right'].set_visible (False)\n",
    "ax.axis('off') # remove axis\n",
    "ax.set_xlabel ('time (s)', fontsize = 30)\n",
    "ax.set_ylabel ('MRC (pA)', fontsize = 30)\n",
    "\n",
    "plt.ylim(-120,20)\n",
    "plt.plot (x, gaussian_filter (sw6_mean, 3), color = '0.9', lw=2) # color with number 0-1 showing gray color with different intensity\n",
    "\n",
    "fig.savefig('MRC_trace6.tif')"
   ]
  },
  {
   "cell_type": "code",
   "execution_count": 72,
   "metadata": {},
   "outputs": [
    {
     "data": {
      "image/png": "[encoded data removed]",
      "text/plain": [
       "<Figure size 576x360 with 1 Axes>"
      ]
     },
     "metadata": {},
     "output_type": "display_data"
    }
   ],
   "source": [
    "# here I am going to smooth the averaged sweeps one by one in a loop and plot them together\n",
    "\n",
    "\n",
    "\n",
    "fig, ax = plt.subplots (figsize=(8,5)) # set figure size\n",
    "ax.spines ['top'].set_visible (False)\n",
    "ax.spines ['right'].set_visible (False)\n",
    "ax.set_xlabel ('time (s)', fontsize = 30)\n",
    "ax.set_ylabel ('MRC (pA)', fontsize = 30)\n",
    "ax.set_ylim (-85,10)\n",
    "ax.set_xlim (0.1,0.6)\n",
    "\n",
    "#plt.plot (x, y1, 'o', markersize = 8, color = 'b')\n",
    "#plt.plot (x, stim_swp[0], 'r-', lw=4)\n",
    "#plt.plot (x, stim_swp[1], 'r-', lw=4)\n",
    "#plt.plot (x, stim_swp[2], 'r-', lw=4)\n",
    "#plt.plot (x, stim_swp[3], 'r-', lw=4)\n",
    "#plt.plot (x, stim_swp[4], 'r-', lw=4)\n",
    "#plt.plot (x, stim_swp[5], 'r-', lw=4)\n",
    "\n",
    "plt.plot (x, gaussian_filter (sw1_mean, 3), 'g-', lw=4)\n",
    "plt.plot (x, gaussian_filter (sw2_mean, 3), 'g-', lw=4)\n",
    "plt.plot (x, gaussian_filter (sw3_mean, 3), 'g-', lw=4)\n",
    "plt.plot (x, gaussian_filter (sw4_mean, 3), 'g-', lw=4)\n",
    "plt.plot (x, gaussian_filter (sw5_mean, 3), 'g-', lw=4)\n",
    "plt.plot (x, gaussian_filter (sw6_mean, 3), 'g-', lw=4)\n",
    "\n",
    "plt.savefig('055_TU2969_MRC.svg')"
   ]
  },
  {
   "cell_type": "code",
   "execution_count": 15,
   "metadata": {},
   "outputs": [
    {
     "name": "stdout",
     "output_type": "stream",
     "text": [
      "[0.1584, 0.1576, 0.155, 0.156, 0.1552, 0.1544]\n",
      "[-7.180285661919264, -23.04705195127318, -31.628964233651466, -34.993153330229795, -41.560700337313236, -49.67471413393951]\n",
      "[0.4618, 0.4568, 0.455, 0.4548, 0.4552, 0.4548]\n",
      "[-7.180285661919264, -18.893886223106783, -24.411846978186396, -29.875321341547664, -35.20963103753257, -36.79757324507477]\n"
     ]
    }
   ],
   "source": [
    "t_peaks_on = []\n",
    "amp_peaks_on = []\n",
    "t_peaks_off = []\n",
    "amp_peaks_off =[]\n",
    "\n",
    "# it is very important to creat loops to fill the ampty lists\n",
    "# do not forget to smooth the mean traces using gaussian_filter function\n",
    "for i in range (6):\n",
    "    t_peaks_on.append((np.argmax(-gaussian_filter(mrc_swps[i][700:850],3))+700)/5000) # set range of where the peak potentially be\n",
    "    amp_peaks_on.append(gaussian_filter(mrc_swps[i],3)[np.argmax(-gaussian_filter(mrc_swps[i][700:8500],3))+700])\n",
    "    t_peaks_off.append((np.argmax(-gaussian_filter(mrc_swps[i][2200:2500],3))+2200)/5000)\n",
    "    amp_peaks_off.append(gaussian_filter(mrc_swps[i],3)[np.argmax(-gaussian_filter(mrc_swps[i][2200:2500],3))+2200])\n",
    "    #t_peaks_off.append(((np.argmax(-mrc_swps[i][2000:3500]))+2000)/5000)\n",
    "    #amp_peaks_off.append(mrc_swps[i][np.argmax(-mrc_swps[i][2000:3500])+2000])\n",
    "\n",
    "print(t_peaks_on)\n",
    "print(amp_peaks_on)\n",
    "                        \n",
    "print(t_peaks_off)\n",
    "print(amp_peaks_off)\n",
    "\n"
   ]
  },
  {
   "cell_type": "code",
   "execution_count": 16,
   "metadata": {},
   "outputs": [
    {
     "name": "stdout",
     "output_type": "stream",
     "text": [
      "[0.1506, 0.1506, 0.1506, 0.1506, 0.1506, 0.1506]\n",
      "[0.4492, 0.4492, 0.4492, 0.4492, 0.4492, 0.4492]\n"
     ]
    }
   ],
   "source": [
    "# use the loops created from up section\n",
    "\n",
    "\n",
    "t_start_act_on = []\n",
    "t_start_act_off = []\n",
    "#This for loop is to ...\n",
    "for i in range (6):\n",
    "    t_start_act_on.append((np.argmax(-np.diff(gaussian_filter(stim_swp[i][700:850],3),2))+700)/5000)\n",
    "    \n",
    "    t_start_act_off.append((np.argmax(-np.diff(gaussian_filter(stim_swp[i][2200:2500],3),2))+2200)/5000)\n",
    "   \n",
    "    #t_start_act_off.append(((np.argmax(-mrc_swps[i][2000:3500]))+2000)/5000)\n",
    "    \n",
    "\n",
    "\n",
    "print (t_start_act_on)\n",
    "print (t_start_act_off)"
   ]
  },
  {
   "cell_type": "code",
   "execution_count": 17,
   "metadata": {},
   "outputs": [
    {
     "name": "stdout",
     "output_type": "stream",
     "text": [
      "[3.900000000000001, 3.4999999999999893, 2.1999999999999935, 2.699999999999994, 2.2999999999999963, 1.899999999999999]\n",
      "[6.3, 3.799999999999998, 2.9000000000000137, 2.799999999999997, 3.0000000000000027, 2.799999999999997]\n"
     ]
    }
   ],
   "source": [
    "# Now calculate the half-time to maximum current \n",
    "\n",
    "t_half_act_on = [] # MRC_on current half-time to maximum current\n",
    "t_half_act_off = [] # MRC_off current half-time to maximum current\n",
    "\n",
    "# you cannot calculate list minus list directly\n",
    "# calculation should only happen elements by elements\n",
    "# here time point switch from second - s to milisecond - ms by dividing time with 1000\n",
    "for i in range (6):\n",
    "    t_half_act_on.append(((t_peaks_on [i] - t_start_act_on[i])/2)*1000)\n",
    "    t_half_act_off.append(((t_peaks_off [i] - t_start_act_off[i])/2)*1000)\n",
    "    \n",
    "print (t_half_act_on)\n",
    "print (t_half_act_off)"
   ]
  },
  {
   "cell_type": "code",
   "execution_count": 18,
   "metadata": {},
   "outputs": [
    {
     "name": "stdout",
     "output_type": "stream",
     "text": [
      "[42.6, 24.600000000000012, 24.00000000000002, 20.000000000000018, 25.2, 21.199999999999996]\n",
      "[69.40000000000002, 22.600000000000065, 20.40000000000003, 23.800000000000043, 20.200000000000053, 21.600000000000065]\n"
     ]
    }
   ],
   "source": [
    "# time point of peak amplitude of on and off MRC will be used here\n",
    "# do not forget to smooth the veraged traces first\n",
    "# argmax() functions will read the whole list and find the fist point the satisfy the condition, or it will read through \n",
    "# a list and give the indice of the maximum value of a list\n",
    "\n",
    "t_half_decay_on = []\n",
    "t_half_decay_off = []\n",
    "\n",
    "for i in range (6):\n",
    "     t_half_decay_on.append ((((np.argmax(gaussian_filter(mrc_swps[i][770:1100],3) > (amp_peaks_on[i]*0.5))+770)*(1/5000)) - t_peaks_on[i])*1000)\n",
    "       \n",
    "     t_half_decay_off.append((((np.argmax(gaussian_filter(mrc_swps[i][2300:2800],3) > (amp_peaks_off[i]*0.5))+2300)*(1/5000)) - t_peaks_off[i])*1000)\n",
    "    \n",
    "print (t_half_decay_on)\n",
    "print (t_half_decay_off)"
   ]
  },
  {
   "cell_type": "code",
   "execution_count": 19,
   "metadata": {
    "scrolled": true
   },
   "outputs": [
    {
     "data": {
      "text/html": [
       "<div>\n",
       "<style scoped>\n",
       "    .dataframe tbody tr th:only-of-type {\n",
       "        vertical-align: middle;\n",
       "    }\n",
       "\n",
       "    .dataframe tbody tr th {\n",
       "        vertical-align: top;\n",
       "    }\n",
       "\n",
       "    .dataframe thead th {\n",
       "        text-align: right;\n",
       "    }\n",
       "</style>\n",
       "<table border=\"1\" class=\"dataframe\">\n",
       "  <thead>\n",
       "    <tr style=\"text-align: right;\">\n",
       "      <th></th>\n",
       "      <th>worm_strain</th>\n",
       "      <th>cell_ID</th>\n",
       "      <th>stim_um</th>\n",
       "      <th>amp_peaks_on</th>\n",
       "      <th>t_peaks_on</th>\n",
       "      <th>amp_peaks_off</th>\n",
       "      <th>t_peaks_off</th>\n",
       "      <th>t_start_act_on</th>\n",
       "      <th>t_start_act_off</th>\n",
       "      <th>t_half_act_on</th>\n",
       "      <th>t_half_act_off</th>\n",
       "      <th>t_half_decay_on</th>\n",
       "      <th>t_half_decay_off</th>\n",
       "      <th>group_number</th>\n",
       "    </tr>\n",
       "  </thead>\n",
       "  <tbody>\n",
       "    <tr>\n",
       "      <td>0</td>\n",
       "      <td>GN932</td>\n",
       "      <td>ALMLW035</td>\n",
       "      <td>1</td>\n",
       "      <td>-7.180286</td>\n",
       "      <td>0.1584</td>\n",
       "      <td>-7.180286</td>\n",
       "      <td>0.4618</td>\n",
       "      <td>0.1506</td>\n",
       "      <td>0.4492</td>\n",
       "      <td>3.9</td>\n",
       "      <td>6.3</td>\n",
       "      <td>42.6</td>\n",
       "      <td>69.4</td>\n",
       "      <td>3</td>\n",
       "    </tr>\n",
       "    <tr>\n",
       "      <td>1</td>\n",
       "      <td>GN932</td>\n",
       "      <td>ALMLW035</td>\n",
       "      <td>3</td>\n",
       "      <td>-23.047052</td>\n",
       "      <td>0.1576</td>\n",
       "      <td>-18.893886</td>\n",
       "      <td>0.4568</td>\n",
       "      <td>0.1506</td>\n",
       "      <td>0.4492</td>\n",
       "      <td>3.5</td>\n",
       "      <td>3.8</td>\n",
       "      <td>24.6</td>\n",
       "      <td>22.6</td>\n",
       "      <td>3</td>\n",
       "    </tr>\n",
       "    <tr>\n",
       "      <td>2</td>\n",
       "      <td>GN932</td>\n",
       "      <td>ALMLW035</td>\n",
       "      <td>5</td>\n",
       "      <td>-31.628964</td>\n",
       "      <td>0.1550</td>\n",
       "      <td>-24.411847</td>\n",
       "      <td>0.4550</td>\n",
       "      <td>0.1506</td>\n",
       "      <td>0.4492</td>\n",
       "      <td>2.2</td>\n",
       "      <td>2.9</td>\n",
       "      <td>24.0</td>\n",
       "      <td>20.4</td>\n",
       "      <td>3</td>\n",
       "    </tr>\n",
       "    <tr>\n",
       "      <td>3</td>\n",
       "      <td>GN932</td>\n",
       "      <td>ALMLW035</td>\n",
       "      <td>7</td>\n",
       "      <td>-34.993153</td>\n",
       "      <td>0.1560</td>\n",
       "      <td>-29.875321</td>\n",
       "      <td>0.4548</td>\n",
       "      <td>0.1506</td>\n",
       "      <td>0.4492</td>\n",
       "      <td>2.7</td>\n",
       "      <td>2.8</td>\n",
       "      <td>20.0</td>\n",
       "      <td>23.8</td>\n",
       "      <td>3</td>\n",
       "    </tr>\n",
       "    <tr>\n",
       "      <td>4</td>\n",
       "      <td>GN932</td>\n",
       "      <td>ALMLW035</td>\n",
       "      <td>9</td>\n",
       "      <td>-41.560700</td>\n",
       "      <td>0.1552</td>\n",
       "      <td>-35.209631</td>\n",
       "      <td>0.4552</td>\n",
       "      <td>0.1506</td>\n",
       "      <td>0.4492</td>\n",
       "      <td>2.3</td>\n",
       "      <td>3.0</td>\n",
       "      <td>25.2</td>\n",
       "      <td>20.2</td>\n",
       "      <td>3</td>\n",
       "    </tr>\n",
       "    <tr>\n",
       "      <td>5</td>\n",
       "      <td>GN932</td>\n",
       "      <td>ALMLW035</td>\n",
       "      <td>11</td>\n",
       "      <td>-49.674714</td>\n",
       "      <td>0.1544</td>\n",
       "      <td>-36.797573</td>\n",
       "      <td>0.4548</td>\n",
       "      <td>0.1506</td>\n",
       "      <td>0.4492</td>\n",
       "      <td>1.9</td>\n",
       "      <td>2.8</td>\n",
       "      <td>21.2</td>\n",
       "      <td>21.6</td>\n",
       "      <td>3</td>\n",
       "    </tr>\n",
       "  </tbody>\n",
       "</table>\n",
       "</div>"
      ],
      "text/plain": [
       "  worm_strain   cell_ID  stim_um  amp_peaks_on  t_peaks_on  amp_peaks_off  \\\n",
       "0       GN932  ALMLW035        1     -7.180286      0.1584      -7.180286   \n",
       "1       GN932  ALMLW035        3    -23.047052      0.1576     -18.893886   \n",
       "2       GN932  ALMLW035        5    -31.628964      0.1550     -24.411847   \n",
       "3       GN932  ALMLW035        7    -34.993153      0.1560     -29.875321   \n",
       "4       GN932  ALMLW035        9    -41.560700      0.1552     -35.209631   \n",
       "5       GN932  ALMLW035       11    -49.674714      0.1544     -36.797573   \n",
       "\n",
       "   t_peaks_off  t_start_act_on  t_start_act_off  t_half_act_on  \\\n",
       "0       0.4618          0.1506           0.4492            3.9   \n",
       "1       0.4568          0.1506           0.4492            3.5   \n",
       "2       0.4550          0.1506           0.4492            2.2   \n",
       "3       0.4548          0.1506           0.4492            2.7   \n",
       "4       0.4552          0.1506           0.4492            2.3   \n",
       "5       0.4548          0.1506           0.4492            1.9   \n",
       "\n",
       "   t_half_act_off  t_half_decay_on  t_half_decay_off  group_number  \n",
       "0             6.3             42.6              69.4             3  \n",
       "1             3.8             24.6              22.6             3  \n",
       "2             2.9             24.0              20.4             3  \n",
       "3             2.8             20.0              23.8             3  \n",
       "4             3.0             25.2              20.2             3  \n",
       "5             2.8             21.2              21.6             3  "
      ]
     },
     "execution_count": 19,
     "metadata": {},
     "output_type": "execute_result"
    }
   ],
   "source": [
    "stim = [1,3,5,7,9,11]\n",
    "worm_strain = 6*['GN932']\n",
    "cell_ID = 6*['ALMLW035']\n",
    "\n",
    "EphysData = {'worm_strain': worm_strain, 'cell_ID': cell_ID,'stim_um': stim, 'amp_peaks_on': amp_peaks_on, 't_peaks_on':t_peaks_on, 'amp_peaks_off': amp_peaks_off, 't_peaks_off':t_peaks_off,\\\n",
    "            't_start_act_on': t_start_act_on, 't_start_act_off': t_start_act_off, 't_half_act_on': t_half_act_on,\\\n",
    "            't_half_act_off': t_half_act_off, 't_half_decay_on': t_half_decay_on,\\\n",
    "             't_half_decay_off': t_half_decay_off, 'group_number': g+1}\n",
    "EphysDataFrame = pd.DataFrame(EphysData)\n",
    "#EphysDataFrame = EphysDataFrame.set_index(['cell_ID'])\n",
    "\n",
    "EphysDataFrame"
   ]
  },
  {
   "cell_type": "code",
   "execution_count": 20,
   "metadata": {},
   "outputs": [],
   "source": [
    "dfpath = 'C:/Users/LingxinW/Box/Wang/Ephys_recording/ALM_ephys/ExtractedData/MRC/' \n",
    "##C:\\Users\\LingxinW\\Box\\Wang\\Ephys_recording\\ALM_ephys\n",
    "\n",
    "#wb = pd.ExcelWriter(dfpath +'ALMLW001.xlsx', engine='xlsxwriter')\n",
    "EphysDataFrame.to_csv(r'C:/Users/LingxinW/Box/Wang/Ephys_recording/ALM_ephys/ExtractedData/MRC/ALMLW035.csv',index =False, index_label = 'stim_um')\n",
    "\n",
    "#wb.save()"
   ]
  },
  {
   "cell_type": "code",
   "execution_count": null,
   "metadata": {},
   "outputs": [],
   "source": [
    "a = 6*['GN932']\n",
    "a"
   ]
  },
  {
   "cell_type": "code",
   "execution_count": null,
   "metadata": {},
   "outputs": [],
   "source": [
    "EphysDataFrame.to_csv(\"ALM_Data.csv\") # this will save the file directly to the filepath of the recording files"
   ]
  }
 ],
 "metadata": {
  "kernelspec": {
   "display_name": "Python 3",
   "language": "python",
   "name": "python3"
  },
  "language_info": {
   "codemirror_mode": {
    "name": "ipython",
    "version": 3
   },
   "file_extension": ".py",
   "mimetype": "text/x-python",
   "name": "python",
   "nbconvert_exporter": "python",
   "pygments_lexer": "ipython3",
   "version": "3.6.4"
  }
 },
 "nbformat": 4,
 "nbformat_minor": 2
}
